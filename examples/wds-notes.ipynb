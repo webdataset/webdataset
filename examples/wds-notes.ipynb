{
 "cells": [
  {
   "cell_type": "markdown",
   "metadata": {},
   "source": [
    "[![Test](https://github.com/tmbdev/webdataset/workflows/Test/badge.svg)](https://github.com/tmbdev/webdataset/actions?query=workflow%3ATest)\n",
    "[![DeepSource](https://static.deepsource.io/deepsource-badge-light-mini.svg)](https://deepsource.io/gh/tmbdev/webdataset/?ref=repository-badge)"
   ]
  },
  {
   "cell_type": "code",
   "execution_count": null,
   "metadata": {},
   "outputs": [],
   "source": [
    "%matplotlib inline\n",
    "import matplotlib.pyplot as plt\n",
    "import torch.utils.data\n",
    "import torch.nn\n",
    "from random import randrange\n",
    "import os\n",
    "os.environ[\"WDS_VERBOSE_CACHE\"] = \"1\"\n",
    "os.environ[\"GOPEN_VERBOSE\"] = \"0\""
   ]
  },
  {
   "cell_type": "markdown",
   "metadata": {},
   "source": [
    "# The WebDataset Format\n",
    "\n",
    "WebDataset format files are tar files, with two conventions:\n",
    "\n",
    "- within each tar file, files that belong together and make up a training sample share the same basename when stripped of all filename extensions\n",
    "- the shards of a tar file are numbered like `something-000000.tar` to `something-012345.tar`, usually specified using brace notation `something-{000000..012345}.tar`\n",
    "\n",
    "WebDataset can read files from local disk or from any pipe, which allows it to access files using common cloud object stores. WebDataset can also read concatenated MsgPack and CBORs sources.\n",
    "\n",
    "The WebDataset representation allows writing purely sequential I/O pipelines for large scale deep learning. This is important for achieving high I/O rates from local storage (3x-10x for local drives compared to random access) and for using object stores and cloud storage for training.\n",
    "\n",
    "The WebDataset format represents images, movies, audio, etc. in their native file formats, making the creation of WebDataset format data as easy as just creating a tar archive. Because of the way data is aligned, WebDataset works well with block deduplication as well and aligns data on predictable boundaries.\n",
    "\n",
    "Standard tools can be used for accessing and processing WebDataset-format files."
   ]
  },
  {
   "cell_type": "code",
   "execution_count": null,
   "metadata": {},
   "outputs": [],
   "source": [
    "bucket = \"https://storage.googleapis.com/webdataset/testdata/\"\n",
    "dataset = \"publaynet-train-{000000..000009}.tar\"\n",
    "\n",
    "url = bucket + dataset\n",
    "!curl -s {url} | tar tf - | sed 10q"
   ]
  },
  {
   "cell_type": "markdown",
   "metadata": {},
   "source": [
    "Note that in these `.tar` files, we have pairs of `.json` and `.png` files; each such pair makes up a training sample."
   ]
  },
  {
   "cell_type": "markdown",
   "metadata": {},
   "source": [
    "# WebDataset Libraries\n",
    "\n",
    "There are several libraries supporting the WebDataset format:\n",
    "\n",
    "- `webdataset` for Python3 (includes the `wids` library), this repository\n",
    "- [Webdataset.jl](https://github.com/webdataset/WebDataset.jl) a Julia implementation\n",
    "- [tarp](https://github.com/webdataset/tarp), a Golang implementation and command line tool\n",
    "- Ray Data sources and sinks\n",
    "\n",
    "The `webdataset` library can be used with PyTorch, Tensorflow, and Jax."
   ]
  },
  {
   "cell_type": "markdown",
   "metadata": {},
   "source": [
    "# The `webdataset` Library\n",
    "\n",
    "The `webdataset` library is an implementation of PyTorch `IterableDataset` (or a mock implementation thereof if you aren't using PyTorch). It implements as form of stream processing. Some of its features are:\n",
    "\n",
    "- large scale parallel data access through sharding\n",
    "- high performance disk I/O due to purely sequential reads\n",
    "- latency insensitive due to big fat pipes\n",
    "- no local storage required\n",
    "- instant startup for training jobs\n",
    "- only requires reading from file descriptors/network streams, no special APIs\n",
    "- its API encourages high performance I/O pipelines\n",
    "- scalable from tiny desktop datasets to petascale datasets\n",
    "- provides local caching if desired\n",
    "- requires no dataset metadata; any collection of shards can be read and used instantly\n",
    "\n",
    "The main limitations people run into are related to the fact that `IterableDataset` is less commonly used in PyTorch and some existing code may not support it as well, and that achieving an exactly balanced number of training samples across many compute nodes for a fixed epoch size is tricky; for multinode training, `webdataset` is usually used with shard resampling."
   ]
  },
  {
   "cell_type": "markdown",
   "metadata": {},
   "source": [
    "There are two interfaces, the concise \"fluid\" interface and a longer \"pipeline\" interface. We'll show examples using the fluid interface, which is usually what you want."
   ]
  },
  {
   "cell_type": "code",
   "execution_count": null,
   "metadata": {},
   "outputs": [],
   "source": [
    "import webdataset as wds\n",
    "pil_dataset = wds.WebDataset(url).shuffle(1000).decode(\"pil\").to_tuple(\"png\", \"json\")"
   ]
  },
  {
   "cell_type": "markdown",
   "metadata": {},
   "source": [
    "The resulting datasets are standard PyTorch `IterableDataset` instances."
   ]
  },
  {
   "cell_type": "code",
   "execution_count": null,
   "metadata": {},
   "outputs": [],
   "source": [
    "isinstance(pil_dataset, torch.utils.data.IterableDataset)"
   ]
  },
  {
   "cell_type": "code",
   "execution_count": null,
   "metadata": {},
   "outputs": [],
   "source": [
    "for image, json in pil_dataset:\n",
    "    break\n",
    "plt.imshow(image)"
   ]
  },
  {
   "cell_type": "markdown",
   "metadata": {},
   "source": [
    "We can add onto the existing pipeline for augmentation and data preparation."
   ]
  },
  {
   "cell_type": "code",
   "execution_count": null,
   "metadata": {},
   "outputs": [],
   "source": [
    "import torchvision.transforms as transforms\n",
    "from PIL import Image\n",
    "\n",
    "preproc = transforms.Compose([\n",
    "    transforms.Resize((224, 224)),\n",
    "    transforms.ToTensor(),\n",
    "    lambda x: 1-x,\n",
    "])\n",
    "\n",
    "def preprocess(sample):\n",
    "    image, json = sample\n",
    "    try:\n",
    "        label = json[\"annotations\"][0][\"category_id\"]\n",
    "    except:\n",
    "        label = 0\n",
    "    return preproc(image), label\n",
    "\n",
    "dataset = pil_dataset.map(preprocess)\n",
    "\n",
    "for image, label in dataset:\n",
    "    break\n",
    "plt.imshow(image.numpy().transpose(1, 2, 0))"
   ]
  },
  {
   "cell_type": "markdown",
   "metadata": {},
   "source": [
    "`WebDataset` is just an instance of a standard `IterableDataset`. It's a single-threaded way of iterating over a dataset. Since image decompression and data augmentation can be compute intensive, PyTorch usually uses the `DataLoader` class to parallelize data loading and preprocessing. `WebDataset` is fully compatible with the standard `DataLoader`."
   ]
  },
  {
   "cell_type": "markdown",
   "metadata": {},
   "source": [
    "The `wds.WebDataset` fluid interface is just a convenient shorthand for writing down pipelines. The underlying pipeline is an instance of the `wds.DataPipeline` class, and you can construct data pipelines explicitly, similar to the way you use `nn.Sequential` inside models."
   ]
  },
  {
   "cell_type": "code",
   "execution_count": null,
   "metadata": {},
   "outputs": [],
   "source": [
    "dataset = wds.DataPipeline(\n",
    "    wds.SimpleShardList(url),\n",
    "\n",
    "    # at this point we have an iterator over all the shards\n",
    "    wds.shuffle(100),\n",
    "\n",
    "    # add wds.split_by_node here if you are using multiple nodes\n",
    "    wds.split_by_worker,\n",
    "\n",
    "    # at this point, we have an iterator over the shards assigned to each worker\n",
    "    wds.tarfile_to_samples(),\n",
    "\n",
    "    # this shuffles the samples in memory\n",
    "    wds.shuffle(1000),\n",
    "\n",
    "    # this decodes the images and json\n",
    "    wds.decode(\"pil\"),\n",
    "    wds.to_tuple(\"png\", \"json\"),\n",
    "    wds.map(preprocess),\n",
    "    wds.shuffle(1000),\n",
    "    wds.batched(16)\n",
    ")\n",
    "\n",
    "batch = next(iter(dataset))\n",
    "batch[0].shape, batch[1].shape"
   ]
  },
  {
   "cell_type": "markdown",
   "metadata": {},
   "source": [
    "Here are a number of notebooks showing how to use WebDataset for image classification and LLM training:\n",
    "\n",
    "- [train-resnet50-wds](train-resnet50-wds.ipynb) -- simple, single GPU training from Imagenet\n",
    "- [train-resnet50-multiray-wds](train-resnet50-multiray-wds.ipynb) -- multinode training using webdataset\n",
    "- [generate-text-dataset](generate-text-dataset.ipynb) -- initial dataset generation\n",
    "- [tesseract-wds](tesseract-wds.ipynb) -- shard-to-shard transformations, here for OCR running over large dataset"
   ]
  },
  {
   "cell_type": "markdown",
   "metadata": {},
   "source": [
    "# Installation and Documentation\n",
    "\n",
    "    $ pip install webdataset\n",
    "\n",
    "For the Github version:\n",
    "\n",
    "    $ pip install git+https://github.com/tmbdev/webdataset.git\n",
    "\n",
    "Here are some videos talking about WebDataset and large scale deep learning:\n",
    "\n",
    "- [Introduction to Large Scale Deep Learning](https://www.youtube.com/watch?v=kNuA2wflygM)\n",
    "- [Loading Training Data with WebDataset](https://www.youtube.com/watch?v=mTv_ePYeBhs)\n",
    "- [Creating Datasets in WebDataset Format](https://www.youtube.com/watch?v=v_PacO-3OGQ)\n",
    "- [Tools for Working with Large Datasets](https://www.youtube.com/watch?v=kIv8zDpRUec)\n",
    "\n",
    "Examples: (NB: some of these are for older versions of WebDataset, but the differences should be small)\n",
    "\n",
    "- [loading videos](https://github.com/tmbdev/webdataset/blob/master/docs/video-loading-example.ipynb)\n",
    "- [splitting raw videos into clips for training](https://github.com/tmbdev/webdataset/blob/master/docs/ytsamples-split.ipynb)\n",
    "- [converting the Falling Things dataset](https://github.com/tmbdev/webdataset/blob/master/docs/falling-things-make-shards.ipynb)\n",
    "\n",
    "# Dependencies\n",
    "\n",
    "The WebDataset library only requires PyTorch, NumPy, and a small library called `braceexpand`.\n",
    "\n",
    "WebDataset loads a few additional libraries dynamically only when they are actually needed and only in the decoder:\n",
    "\n",
    "- PIL/Pillow for image decoding\n",
    "- `torchvision`, `torchvideo`, `torchaudio` for image/video/audio decoding\n",
    "- `msgpack` for MessagePack decoding\n",
    "- the `curl` command line tool for accessing HTTP servers\n",
    "- the Google/Amazon/Azure command line tools for accessing cloud storage buckets\n",
    "\n",
    "Loading of one of these libraries is triggered by configuring a decoder that attempts to decode content in the given format and encountering a file in that format during decoding. (Eventually, the torch... dependencies will be refactored into those libraries.)"
   ]
  },
  {
   "cell_type": "markdown",
   "metadata": {},
   "source": [
    "# Data Decoding\n",
    "\n",
    "Data decoding is a special kind of transformations of samples. You could simply write a decoding function like this:\n",
    "\n",
    "```Python\n",
    "def my_sample_decoder(sample):\n",
    "    result = dict(__key__=sample[\"__key__\"])\n",
    "    for key, value in sample.items():\n",
    "        if key == \"png\" or key.endswith(\".png\"):\n",
    "            result[key] = mageio.imread(io.BytesIO(value))\n",
    "        elif ...:\n",
    "            ...\n",
    "    return result\n",
    "\n",
    "dataset = wds.Processor(wds.map, my_sample_decoder)(dataset)\n",
    "```\n",
    "\n",
    "This gets tedious, though, and it also unnecessarily hardcodes the sample's keys into the processing pipeline. To help with this, there is a helper class that simplifies this kind of code. The primary use of `Decoder` is for decoding compressed image, video, and audio formats, as well as unzipping `.gz` files.\n",
    "\n",
    "Here is an example of automatically decoding `.png` images with `imread` and using the default `torch_video` and `torch_audio` decoders for video and audio:\n",
    "\n",
    "```Python\n",
    "def my_png_decoder(key, value):\n",
    "    if not key.endswith(\".png\"):\n",
    "        return None\n",
    "    assert isinstance(value, bytes)\n",
    "    return imageio.imread(io.BytesIO(value))\n",
    "\n",
    "dataset = wds.Decoder(my_png_decoder, wds.torch_video, wds.torch_audio)(dataset)\n",
    "```\n",
    "\n",
    "You can use whatever criteria you like for deciding how to decode values in samples. When used with standard `WebDataset` format files, the keys are the full extensions of the file names inside a `.tar` file. For consistency, it's recommended that you primarily rely on the extensions (e.g., `.png`, `.mp4`) to decide which decoders to use. There is a special helper function that simplifies this:\n",
    "\n",
    "```Python\n",
    "def my_decoder(value):\n",
    "    return imageio.imread(io.BytesIO(value))\n",
    "    \n",
    "dataset = wds.Decoder(wds.handle_extension(\".png\", my_decoder))(dataset)\n",
    "```"
   ]
  },
  {
   "cell_type": "markdown",
   "metadata": {},
   "source": [
    "# \"Smaller\" Datasets and Desktop Computing\n",
    "\n",
    "WebDataset is an ideal solution for training on petascale datasets kept on high performance distributed data stores like AIStore, AWS/S3, and Google Cloud. Compared to data center GPU servers, desktop machines have much slower network connections, but training jobs on desktop machines often also use much smaller datasets. WebDataset also is very useful for such smaller datasets, and it can easily be used for developing and testing on small datasets and then scaling up to large datasets by simply using more shards.\n",
    "\n",
    "\n",
    "Here are different usage scenarios:\n",
    "\n",
    "- **desktop deep learning, smaller datasets**\n",
    "    - copy all shards to local disk manually\n",
    "    - use automatic shard caching\n",
    "- **prototyping, development, testing of jobs for large scale training**\n",
    "    - copy a small subset of shards to local disk\n",
    "    - use automatic shard caching with a small subrange of shards\n",
    "- **cloud training against cloud buckets**\n",
    "    - use WebDataset directly with remote URLs\n",
    "- **on premises training with high performance store (e.g., AIStore) and fast networks**\n",
    "    - use WebDataset directly with remote URLs\n",
    "- **on premises training with slower object stores and/or slower networks**\n",
    "    - use automatic shard caching\n",
    "    "
   ]
  },
  {
   "cell_type": "markdown",
   "metadata": {},
   "source": [
    "# Location Independence, Caching, Etc.\n",
    "\n",
    "WebDataset makes it easy to use a single specification for your datasets and run your code without change in different environments.\n",
    "\n",
    "## Loadable Dataset Specifications\n",
    "\n",
    "If you write your input pipelines such that they are defined by a dataset specification in some language, you can most easily retarget your training pipelines to different datasets. You can do this either by dynamically loading the Python code that constructs the pipeline or by using a YAML/JSON dataset specification. \n",
    "\n",
    "A YAML dataset specification looks like this:\n",
    "\n",
    "```\n",
    "dataset:\n",
    "  - shards: gs://nvdata-ocropus-tess/ia1-{000000..000033}.tar\n",
    "    scaleprob: 0.3\n",
    "  - shards: gs://nvdata-ocropus-tess/cdipsub-{000000..000022}.tar\n",
    "    scale: [1.0, 3.0]\n",
    "  - shards: gs://nvdata-ocropus-tess/gsub-{000000..000167}.tar\n",
    "    scale: [0.4, 1.0]\n",
    "  - shards: gs://nvdata-ocropus-tess/bin-gsub-{000000..000167}.tar\n",
    "    extensions: nrm.jpg\n",
    "    scale: [0.3, 1.0]\n",
    "  - shards: gs://nvdata-ocropus/rendered.tar\n",
    "    scaleprob: 1.0\n",
    "```\n",
    "\n",
    "Note that datasets can be composed from different shard collections, mixed in different proportions.\n",
    "\n",
    "The dataset specification reader will be integrated in the next minor version update.\n",
    "\n",
    "## AIStore Proxy\n",
    "\n",
    "\n",
    "If you want to use an AISTore server as a cache, you can tell any WebDataset pipeline to replace direct accesses to your URLs to proxied accesses via the AIStore server. To do that, you need to set a couple of environment variables.\n",
    "\n",
    "```\n",
    "export AIS_ENDPOINT=http://nix:51080\n",
    "export USE_AIS_FOR=\"gs\"\n",
    "```\n",
    "\n",
    "Now, any accesses to Google Cloud Storage (`gs://` urls) will be routed through the AIS server.\n",
    "\n",
    "## URL Rewriting\n",
    "\n",
    "You can rewrite URLs using regular expressions via an environment variable; the syntax is `WDS_REWRITE=regex=regex;regex=regex`.\n",
    "\n",
    "For example, to replace `gs://` accesses with local file accesses, use\n",
    "\n",
    "```\n",
    "export WDS_REWRITE=\"gs://=/shared/data/\"\n",
    "```\n",
    "\n",
    "To access Google cloud data via ssh, you might use something like:\n",
    "\n",
    "```\n",
    "export WDS_REWRITE=\"gs://=pipe:ssh proxyhost gsutil cat \"\n",
    "```\n",
    "\n",
    "## Use the Caching Mechanism\n",
    "\n",
    "If you use the built-in caching mechanism, you can simply download shards to a local directory and specify that directory as the cache directory. The shards in that directory will override the shards that are being downloaded. Shards in the cache are mapped based on the pathname and file name of your shard names.\n"
   ]
  },
  {
   "cell_type": "markdown",
   "metadata": {},
   "source": [
    "## Direct Copying of Shards\n",
    "\n",
    "Let's take the OpenImages dataset as an example; it's half a terabyte large. For development and testing, you may not want to download the entire dataset, but you may also not want to use the dataset remotely. With WebDataset, you can just download a small number of shards and use them during development."
   ]
  },
  {
   "cell_type": "code",
   "execution_count": null,
   "metadata": {},
   "outputs": [],
   "source": [
    "!curl -L -s http://storage.googleapis.com/nvdata-openimages/openimages-train-000000.tar > /tmp/openimages-train-000000.tar"
   ]
  },
  {
   "cell_type": "code",
   "execution_count": null,
   "metadata": {},
   "outputs": [],
   "source": [
    "dataset = wds.DataPipeline(\n",
    "    wds.SimpleShardList(\"/tmp/openimages-train-000000.tar\"),\n",
    "    wds.tarfile_to_samples(),\n",
    ")\n",
    "repr(next(iter(dataset)))[:200]"
   ]
  },
  {
   "cell_type": "markdown",
   "metadata": {},
   "source": [
    "Note that the WebDataset class works the same way on local files as it does on remote files. Furthermore, unlike other kinds of dataset formats and archive formats, downloaded datasets are immediately useful and don't need to be unpacked."
   ]
  },
  {
   "cell_type": "markdown",
   "metadata": {},
   "source": [
    "# Creating a WebDataset\n",
    "\n",
    "## Using `tar`\n",
    "\n",
    "Since WebDatasets are just regular tar files, you can usually create them by just using the `tar` command. All you have to do is to arrange for any files that should be in the same sample to share the same basename. Many datasets already come that way. For those, you can simply create a WebDataset with\n",
    "\n",
    "```\n",
    "$ tar --sort=name -cf dataset.tar dataset/\n",
    "```\n",
    "\n",
    "If your dataset has some other directory layout, you may need a different file name in the archive from the name on disk. You can use the `--transform` argument to GNU tar to transform file names. You can also use the `-T` argument to read the files from a text file and embed other options in that text file.\n",
    "\n",
    "## The `tarp create` Command\n",
    "\n",
    "The [`tarp`](https://github.com/tmbdev/tarp) command is a little utility for manipulating `tar` archives. Its `create` subcommand makes it particularly simple to construct tar archives from files. The `tarp create` command takes a recipe for building\n",
    "a tar archive that contains lines of the form:\n",
    "\n",
    "```\n",
    "archive-name-1 source-name-1\n",
    "archive-name-2 source-name-2\n",
    "...\n",
    "```\n",
    "\n",
    "The source name can either be a file, \"text:something\", or \"pipe:something\".\n",
    "\n",
    "## Programmatically in Python\n",
    "\n",
    "You can also create a WebDataset with library functions in this library:\n",
    "\n",
    "- `webdataset.TarWriter` takes dictionaries containing key value pairs and writes them to disk\n",
    "- `webdataset.ShardWriter` takes dictionaries containing key value pairs and writes them to disk as a series of shards\n",
    "\n",
    "Here is a quick way of converting an existing dataset into a WebDataset; this will store all tensors as Python pickles:\n",
    "\n",
    "```Python\n",
    "sink = wds.TarWriter(\"dest.tar\")\n",
    "dataset = open_my_dataset()\n",
    "for index, (input, output) in dataset:\n",
    "    sink.write({\n",
    "        \"__key__\": \"sample%06d\" % index,\n",
    "        \"input.pyd\": input,\n",
    "        \"output.pyd\": output,\n",
    "    })\n",
    "sink.close()\n",
    "```"
   ]
  },
  {
   "cell_type": "markdown",
   "metadata": {},
   "source": [
    "Storing data as Python pickles allows most common Python datatypes to be stored, it is lossless, and the format is fast to decode.\n",
    "However, it is uncompressed and cannot be read by non-Python programs. It's often better to choose other storage formats, e.g.,\n",
    "taking advantage of common image compression formats.\n",
    "\n",
    "If you know that the input is an image and the output is an integer class, you can also write something like this:\n",
    "\n",
    "```Python\n",
    "sink = wds.TarWriter(\"dest.tar\")\n",
    "dataset = open_my_dataset()\n",
    "for index, (input, output) in dataset:\n",
    "    assert input.ndim == 3 and input.shape[2] == 3\n",
    "    assert input.dtype = np.float32 and np.amin(input) >= 0 and np.amax(input) <= 1\n",
    "    assert type(output) == int\n",
    "    sink.write({\n",
    "        \"__key__\": \"sample%06d\" % index,\n",
    "        \"input.jpg\": input,\n",
    "        \"output.cls\": output,\n",
    "    })\n",
    "sink.close()\n",
    "```"
   ]
  },
  {
   "cell_type": "markdown",
   "metadata": {},
   "source": [
    "The `assert` statements in that loop are not necessary, but they document and illustrate the expectations for this\n",
    "particular dataset. Generally, the \".jpg\" encoder can actually encode a wide variety of array types as images. The\n",
    "\".cls\" encoder always requires an integer for encoding.\n",
    "\n",
    "Here is how you can use `TarWriter` for writing a dataset without using an encoder:\n",
    "\n",
    "```Python\n",
    "sink = wds.TarWriter(\"dest.tar\", encoder=False)\n",
    "for basename in basenames:\n",
    "    with open(f\"{basename}.png\", \"rb\") as stream):\n",
    "        image = stream.read()\n",
    "    cls = lookup_cls(basename)\n",
    "    sample = {\n",
    "        \"__key__\": basename,\n",
    "        \"input.png\": image,\n",
    "        \"target.cls\": cls\n",
    "    }\n",
    "    sink.write(sample)\n",
    "sink.close()\n",
    "```"
   ]
  },
  {
   "cell_type": "markdown",
   "metadata": {},
   "source": [
    "Since no encoder is used, if you want to be able to read this data with the default decoder, `image` must contain a byte string corresponding to a PNG image (as indicated by the \".png\" extension on its dictionary key), and `cls` must contain an integer encoded in ASCII (as indicated by the \".cls\" extension on its dictionary key).\n",
    "\n",
    "# Writing Filters and Offline Augmentation\n",
    "\n",
    "Webdataset can be used for filters and offline augmentation of datasets. Here is a complete example that pre-augments a shard and extracts class labels."
   ]
  },
  {
   "cell_type": "code",
   "execution_count": null,
   "metadata": {},
   "outputs": [],
   "source": [
    "from torchvision import transforms\n",
    "from itertools import islice\n",
    "\n",
    "def extract_class(data):\n",
    "    # mock implementation\n",
    "    return 0\n",
    "\n",
    "def preproc(image):\n",
    "    image = transforms.ToTensor()(image)\n",
    "    # more preprocessing here\n",
    "    return image\n",
    "\n",
    "def augment_wds(input, output, maxcount=999999999):\n",
    "    src = wds.DataPipeline(\n",
    "        wds.SimpleShardList(input),\n",
    "        wds.tarfile_to_samples(),\n",
    "        wds.decode(\"pil\"),\n",
    "        wds.to_tuple(\"__key__\", \"jpg;png\", \"json\"),\n",
    "        wds.map_tuple(None, preproc, None),\n",
    "    )\n",
    "    with wds.TarWriter(output) as dst:\n",
    "        for key, image, data in islice(src, 0, maxcount):\n",
    "            print(key)\n",
    "            image = image.numpy().transpose(1, 2, 0)\n",
    "            image -= np.amin(image)\n",
    "            image /= np.amax(image)\n",
    "            sample = {\n",
    "                \"__key__\": key,\n",
    "                \"png\": image,\n",
    "                \"cls\": extract_class(data)\n",
    "            }\n",
    "            dst.write(sample)"
   ]
  },
  {
   "cell_type": "markdown",
   "metadata": {},
   "source": [
    "Now run the augmentation pipeline:"
   ]
  },
  {
   "cell_type": "code",
   "execution_count": null,
   "metadata": {},
   "outputs": [],
   "source": [
    "url = \"http://storage.googleapis.com/nvdata-openimages/openimages-train-000000.tar\"\n",
    "url = f\"pipe:curl -L -s {url} || true\"\n",
    "augment_wds(url, \"_temp.tar\", maxcount=5)"
   ]
  },
  {
   "cell_type": "markdown",
   "metadata": {},
   "source": [
    "To verify that things worked correctly, let's look at the output file:"
   ]
  },
  {
   "cell_type": "code",
   "execution_count": null,
   "metadata": {},
   "outputs": [],
   "source": [
    "%%bash\n",
    "tar tf _temp.tar"
   ]
  },
  {
   "cell_type": "markdown",
   "metadata": {},
   "source": [
    "If you want to preprocess the entire OpenImages dataset with a process like this, you can use your favorite job queueing or worflow system.\n",
    "\n",
    "For example, using Dask, you could process all 554 shards in parallel using code like this:\n",
    "\n",
    "```Python\n",
    "shards = braceexpand.braceexpand(\"{000000..000554}\")\n",
    "inputs = [f\"gs://bucket/openimages-{shard}.tar\" for shard in shards]\n",
    "outputs = [f\"gs://bucket2/openimages-augmented-{shard}.tar\" for shard in shards]\n",
    "results = [dask.delayed(augment_wds)(args) for args in zip(inputs, outputs)]\n",
    "dask.compute(*results)\n",
    "```"
   ]
  },
  {
   "cell_type": "markdown",
   "metadata": {},
   "source": [
    "Note that the data is streaming from and to Google Cloud Storage buckets, so very little local storage is required on each worker.\n",
    "\n",
    "For very large scale processing, it's easiest to submit separate jobs to a Kubernetes cluster using the Kubernetes `Job` template, or using a workflow engine like Argo."
   ]
  },
  {
   "cell_type": "markdown",
   "metadata": {},
   "source": [
    "Whether you prefer `WebDataset` or `Dataset` is a matter of style."
   ]
  },
  {
   "cell_type": "markdown",
   "metadata": {},
   "source": [
    "# Syntax for URL Sources\n",
    "\n",
    "The `SimpleShardList` and `ResampledShards` take either a string or a list of URLs as an argument. If it is given a string, the string is expanded using the `braceexpand` library. So, the following are equivalent:\n",
    "\n",
    "```Python\n",
    "ShardList(\"dataset-{000..001}.tar\")\n",
    "ShardList([\"dataset-000.tar\", \"dataset-001.tar\"])\n",
    "```\n",
    "\n",
    "The url strings in a shard list are handled by default by the `webdataset.url_opener` filter. It recognizes three simple kinds of strings: \"-\", \"/path/to/file\", and \"pipe:command\":\n",
    "\n",
    "- the string \"-\", referring to stdin\n",
    "- a UNIX path, opened as a regular file\n",
    "- a URL-like string with the schema \"pipe:\"; such URLs are opened with `subprocess.Popen`. For example:\n",
    "    - `pipe:curl -s -L http://server/file` accesses a file via HTTP\n",
    "    - `pipe:gsutil cat gs://bucket/file` accesses a file on GCS\n",
    "    - `pipe:az cp --container bucket --name file --file /dev/stdout` accesses a file on Azure\n",
    "    - `pipe:ssh host cat file` accesses a file via `ssh`\n",
    "\n",
    "It might seem at first glance to be \"more efficient\" to use built-in Python libraries for accessing object stores rather than subprocesses, but efficient object store access from Python really requires spawning a separate process anyway, so this approach to accessing object stores is not only convenient, it also is as efficient as we can make it in Python."
   ]
  },
  {
   "cell_type": "markdown",
   "metadata": {},
   "source": [
    "# Length Properties\n",
    "\n",
    "WebDataset instances are subclasses of `IterableDataset`. These instances are not supposed to have a `__len__` method, and some code actually tests for that.\n",
    "\n",
    "If you want to have a length property on your dataset, use the `with_length(n)` method with whatever length you would like to  set.\n",
    "\n",
    "If you want to change the size of the epoch, i.e., if you want to force the iterator to quit after a given number of samples or batches, use the `with_epoch` method.\n",
    "\n",
    "You can combine both methods; use `with_length` last."
   ]
  },
  {
   "cell_type": "markdown",
   "metadata": {},
   "source": [
    "# Tar Header Overhead\n",
    "\n",
    "Tar imposes a 512 byte overhead for each file stored in the archive. For most applications, this is not an issue because images and other content tends to be much larger.\n",
    "\n",
    "If you have datasets that contain large amounts of small files (e.g., text-only training, etc.), this overhead may become significant. In that case, you have several options:\n",
    "\n",
    "- store some or all of your sample in JSON, MsgPack, or CBOR format\n",
    "- gzip-compress your tar file (use .tgz instead of .tar); WebDatset will automatically decompress\n",
    "- pre-batch the data (not recommended)\n",
    "\n",
    "Both of the first options are very simple. To store your entire sample in MsgPack format, do something like this:\n",
    "\n",
    "```\n",
    "# Writing\n",
    "\n",
    "    ... construct sample ...\n",
    "    sample = dict(mp=sample)\n",
    "    writer.write(sample)\n",
    "\n",
    "# Reading\n",
    "\n",
    "    dataset = ... initial construction ...\n",
    "    dataset = dataset.map(sample: sample[\"mp\"])\n",
    "    ... use sample as usual ...\n",
    "```\n"
   ]
  },
  {
   "cell_type": "markdown",
   "metadata": {},
   "source": [
    "# Related Libraries and Software\n",
    "\n",
    "The [AIStore](http://github.com/NVIDIA/aistore) server provides an efficient backend for WebDataset; it functions like a combination of web server, content distribution network, P2P network, and distributed file system. Together, AIStore and WebDataset can serve input data from rotational drives distributed across many servers at the speed of local SSDs to many GPUs, at a fraction of the cost. We can easily achieve hundreds of MBytes/s of I/O per GPU even in large, distributed training jobs.\n",
    "\n",
    "The [tarproc](http://github.com/tmbdev/tarproc) utilities provide command line manipulation and processing of webdatasets and other tar files, including splitting, concatenation, and `xargs`-like functionality.\n",
    "\n",
    "The [tensorcom](http://github.com/tmbdev/tensorcom/) library provides fast three-tiered I/O; it can be inserted between [AIStore](http://github.com/NVIDIA/aistore) and [WebDataset](http://github.com/tmbdev/webdataset) to permit distributed data augmentation and I/O. It is particularly useful when data augmentation requires more CPU than the GPU server has available.\n",
    "\n",
    "You can find the full PyTorch ImageNet sample code converted to WebDataset at [tmbdev/pytorch-imagenet-wds](http://github.com/tmbdev/pytorch-imagenet-wds)\n"
   ]
  },
  {
   "cell_type": "code",
   "execution_count": null,
   "metadata": {},
   "outputs": [],
   "source": []
  }
 ],
 "metadata": {
  "availableInstances": [
   {
    "_defaultOrder": 0,
    "_isFastLaunch": true,
    "category": "General purpose",
    "gpuNum": 0,
    "hideHardwareSpecs": false,
    "memoryGiB": 4,
    "name": "ml.t3.medium",
    "vcpuNum": 2
   },
   {
    "_defaultOrder": 1,
    "_isFastLaunch": false,
    "category": "General purpose",
    "gpuNum": 0,
    "hideHardwareSpecs": false,
    "memoryGiB": 8,
    "name": "ml.t3.large",
    "vcpuNum": 2
   },
   {
    "_defaultOrder": 2,
    "_isFastLaunch": false,
    "category": "General purpose",
    "gpuNum": 0,
    "hideHardwareSpecs": false,
    "memoryGiB": 16,
    "name": "ml.t3.xlarge",
    "vcpuNum": 4
   },
   {
    "_defaultOrder": 3,
    "_isFastLaunch": false,
    "category": "General purpose",
    "gpuNum": 0,
    "hideHardwareSpecs": false,
    "memoryGiB": 32,
    "name": "ml.t3.2xlarge",
    "vcpuNum": 8
   },
   {
    "_defaultOrder": 4,
    "_isFastLaunch": true,
    "category": "General purpose",
    "gpuNum": 0,
    "hideHardwareSpecs": false,
    "memoryGiB": 8,
    "name": "ml.m5.large",
    "vcpuNum": 2
   },
   {
    "_defaultOrder": 5,
    "_isFastLaunch": false,
    "category": "General purpose",
    "gpuNum": 0,
    "hideHardwareSpecs": false,
    "memoryGiB": 16,
    "name": "ml.m5.xlarge",
    "vcpuNum": 4
   },
   {
    "_defaultOrder": 6,
    "_isFastLaunch": false,
    "category": "General purpose",
    "gpuNum": 0,
    "hideHardwareSpecs": false,
    "memoryGiB": 32,
    "name": "ml.m5.2xlarge",
    "vcpuNum": 8
   },
   {
    "_defaultOrder": 7,
    "_isFastLaunch": false,
    "category": "General purpose",
    "gpuNum": 0,
    "hideHardwareSpecs": false,
    "memoryGiB": 64,
    "name": "ml.m5.4xlarge",
    "vcpuNum": 16
   },
   {
    "_defaultOrder": 8,
    "_isFastLaunch": false,
    "category": "General purpose",
    "gpuNum": 0,
    "hideHardwareSpecs": false,
    "memoryGiB": 128,
    "name": "ml.m5.8xlarge",
    "vcpuNum": 32
   },
   {
    "_defaultOrder": 9,
    "_isFastLaunch": false,
    "category": "General purpose",
    "gpuNum": 0,
    "hideHardwareSpecs": false,
    "memoryGiB": 192,
    "name": "ml.m5.12xlarge",
    "vcpuNum": 48
   },
   {
    "_defaultOrder": 10,
    "_isFastLaunch": false,
    "category": "General purpose",
    "gpuNum": 0,
    "hideHardwareSpecs": false,
    "memoryGiB": 256,
    "name": "ml.m5.16xlarge",
    "vcpuNum": 64
   },
   {
    "_defaultOrder": 11,
    "_isFastLaunch": false,
    "category": "General purpose",
    "gpuNum": 0,
    "hideHardwareSpecs": false,
    "memoryGiB": 384,
    "name": "ml.m5.24xlarge",
    "vcpuNum": 96
   },
   {
    "_defaultOrder": 12,
    "_isFastLaunch": false,
    "category": "General purpose",
    "gpuNum": 0,
    "hideHardwareSpecs": false,
    "memoryGiB": 8,
    "name": "ml.m5d.large",
    "vcpuNum": 2
   },
   {
    "_defaultOrder": 13,
    "_isFastLaunch": false,
    "category": "General purpose",
    "gpuNum": 0,
    "hideHardwareSpecs": false,
    "memoryGiB": 16,
    "name": "ml.m5d.xlarge",
    "vcpuNum": 4
   },
   {
    "_defaultOrder": 14,
    "_isFastLaunch": false,
    "category": "General purpose",
    "gpuNum": 0,
    "hideHardwareSpecs": false,
    "memoryGiB": 32,
    "name": "ml.m5d.2xlarge",
    "vcpuNum": 8
   },
   {
    "_defaultOrder": 15,
    "_isFastLaunch": false,
    "category": "General purpose",
    "gpuNum": 0,
    "hideHardwareSpecs": false,
    "memoryGiB": 64,
    "name": "ml.m5d.4xlarge",
    "vcpuNum": 16
   },
   {
    "_defaultOrder": 16,
    "_isFastLaunch": false,
    "category": "General purpose",
    "gpuNum": 0,
    "hideHardwareSpecs": false,
    "memoryGiB": 128,
    "name": "ml.m5d.8xlarge",
    "vcpuNum": 32
   },
   {
    "_defaultOrder": 17,
    "_isFastLaunch": false,
    "category": "General purpose",
    "gpuNum": 0,
    "hideHardwareSpecs": false,
    "memoryGiB": 192,
    "name": "ml.m5d.12xlarge",
    "vcpuNum": 48
   },
   {
    "_defaultOrder": 18,
    "_isFastLaunch": false,
    "category": "General purpose",
    "gpuNum": 0,
    "hideHardwareSpecs": false,
    "memoryGiB": 256,
    "name": "ml.m5d.16xlarge",
    "vcpuNum": 64
   },
   {
    "_defaultOrder": 19,
    "_isFastLaunch": false,
    "category": "General purpose",
    "gpuNum": 0,
    "hideHardwareSpecs": false,
    "memoryGiB": 384,
    "name": "ml.m5d.24xlarge",
    "vcpuNum": 96
   },
   {
    "_defaultOrder": 20,
    "_isFastLaunch": false,
    "category": "General purpose",
    "gpuNum": 0,
    "hideHardwareSpecs": true,
    "memoryGiB": 0,
    "name": "ml.geospatial.interactive",
    "supportedImageNames": [
     "sagemaker-geospatial-v1-0"
    ],
    "vcpuNum": 0
   },
   {
    "_defaultOrder": 21,
    "_isFastLaunch": true,
    "category": "Compute optimized",
    "gpuNum": 0,
    "hideHardwareSpecs": false,
    "memoryGiB": 4,
    "name": "ml.c5.large",
    "vcpuNum": 2
   },
   {
    "_defaultOrder": 22,
    "_isFastLaunch": false,
    "category": "Compute optimized",
    "gpuNum": 0,
    "hideHardwareSpecs": false,
    "memoryGiB": 8,
    "name": "ml.c5.xlarge",
    "vcpuNum": 4
   },
   {
    "_defaultOrder": 23,
    "_isFastLaunch": false,
    "category": "Compute optimized",
    "gpuNum": 0,
    "hideHardwareSpecs": false,
    "memoryGiB": 16,
    "name": "ml.c5.2xlarge",
    "vcpuNum": 8
   },
   {
    "_defaultOrder": 24,
    "_isFastLaunch": false,
    "category": "Compute optimized",
    "gpuNum": 0,
    "hideHardwareSpecs": false,
    "memoryGiB": 32,
    "name": "ml.c5.4xlarge",
    "vcpuNum": 16
   },
   {
    "_defaultOrder": 25,
    "_isFastLaunch": false,
    "category": "Compute optimized",
    "gpuNum": 0,
    "hideHardwareSpecs": false,
    "memoryGiB": 72,
    "name": "ml.c5.9xlarge",
    "vcpuNum": 36
   },
   {
    "_defaultOrder": 26,
    "_isFastLaunch": false,
    "category": "Compute optimized",
    "gpuNum": 0,
    "hideHardwareSpecs": false,
    "memoryGiB": 96,
    "name": "ml.c5.12xlarge",
    "vcpuNum": 48
   },
   {
    "_defaultOrder": 27,
    "_isFastLaunch": false,
    "category": "Compute optimized",
    "gpuNum": 0,
    "hideHardwareSpecs": false,
    "memoryGiB": 144,
    "name": "ml.c5.18xlarge",
    "vcpuNum": 72
   },
   {
    "_defaultOrder": 28,
    "_isFastLaunch": false,
    "category": "Compute optimized",
    "gpuNum": 0,
    "hideHardwareSpecs": false,
    "memoryGiB": 192,
    "name": "ml.c5.24xlarge",
    "vcpuNum": 96
   },
   {
    "_defaultOrder": 29,
    "_isFastLaunch": true,
    "category": "Accelerated computing",
    "gpuNum": 1,
    "hideHardwareSpecs": false,
    "memoryGiB": 16,
    "name": "ml.g4dn.xlarge",
    "vcpuNum": 4
   },
   {
    "_defaultOrder": 30,
    "_isFastLaunch": false,
    "category": "Accelerated computing",
    "gpuNum": 1,
    "hideHardwareSpecs": false,
    "memoryGiB": 32,
    "name": "ml.g4dn.2xlarge",
    "vcpuNum": 8
   },
   {
    "_defaultOrder": 31,
    "_isFastLaunch": false,
    "category": "Accelerated computing",
    "gpuNum": 1,
    "hideHardwareSpecs": false,
    "memoryGiB": 64,
    "name": "ml.g4dn.4xlarge",
    "vcpuNum": 16
   },
   {
    "_defaultOrder": 32,
    "_isFastLaunch": false,
    "category": "Accelerated computing",
    "gpuNum": 1,
    "hideHardwareSpecs": false,
    "memoryGiB": 128,
    "name": "ml.g4dn.8xlarge",
    "vcpuNum": 32
   },
   {
    "_defaultOrder": 33,
    "_isFastLaunch": false,
    "category": "Accelerated computing",
    "gpuNum": 4,
    "hideHardwareSpecs": false,
    "memoryGiB": 192,
    "name": "ml.g4dn.12xlarge",
    "vcpuNum": 48
   },
   {
    "_defaultOrder": 34,
    "_isFastLaunch": false,
    "category": "Accelerated computing",
    "gpuNum": 1,
    "hideHardwareSpecs": false,
    "memoryGiB": 256,
    "name": "ml.g4dn.16xlarge",
    "vcpuNum": 64
   },
   {
    "_defaultOrder": 35,
    "_isFastLaunch": false,
    "category": "Accelerated computing",
    "gpuNum": 1,
    "hideHardwareSpecs": false,
    "memoryGiB": 61,
    "name": "ml.p3.2xlarge",
    "vcpuNum": 8
   },
   {
    "_defaultOrder": 36,
    "_isFastLaunch": false,
    "category": "Accelerated computing",
    "gpuNum": 4,
    "hideHardwareSpecs": false,
    "memoryGiB": 244,
    "name": "ml.p3.8xlarge",
    "vcpuNum": 32
   },
   {
    "_defaultOrder": 37,
    "_isFastLaunch": false,
    "category": "Accelerated computing",
    "gpuNum": 8,
    "hideHardwareSpecs": false,
    "memoryGiB": 488,
    "name": "ml.p3.16xlarge",
    "vcpuNum": 64
   },
   {
    "_defaultOrder": 38,
    "_isFastLaunch": false,
    "category": "Accelerated computing",
    "gpuNum": 8,
    "hideHardwareSpecs": false,
    "memoryGiB": 768,
    "name": "ml.p3dn.24xlarge",
    "vcpuNum": 96
   },
   {
    "_defaultOrder": 39,
    "_isFastLaunch": false,
    "category": "Memory Optimized",
    "gpuNum": 0,
    "hideHardwareSpecs": false,
    "memoryGiB": 16,
    "name": "ml.r5.large",
    "vcpuNum": 2
   },
   {
    "_defaultOrder": 40,
    "_isFastLaunch": false,
    "category": "Memory Optimized",
    "gpuNum": 0,
    "hideHardwareSpecs": false,
    "memoryGiB": 32,
    "name": "ml.r5.xlarge",
    "vcpuNum": 4
   },
   {
    "_defaultOrder": 41,
    "_isFastLaunch": false,
    "category": "Memory Optimized",
    "gpuNum": 0,
    "hideHardwareSpecs": false,
    "memoryGiB": 64,
    "name": "ml.r5.2xlarge",
    "vcpuNum": 8
   },
   {
    "_defaultOrder": 42,
    "_isFastLaunch": false,
    "category": "Memory Optimized",
    "gpuNum": 0,
    "hideHardwareSpecs": false,
    "memoryGiB": 128,
    "name": "ml.r5.4xlarge",
    "vcpuNum": 16
   },
   {
    "_defaultOrder": 43,
    "_isFastLaunch": false,
    "category": "Memory Optimized",
    "gpuNum": 0,
    "hideHardwareSpecs": false,
    "memoryGiB": 256,
    "name": "ml.r5.8xlarge",
    "vcpuNum": 32
   },
   {
    "_defaultOrder": 44,
    "_isFastLaunch": false,
    "category": "Memory Optimized",
    "gpuNum": 0,
    "hideHardwareSpecs": false,
    "memoryGiB": 384,
    "name": "ml.r5.12xlarge",
    "vcpuNum": 48
   },
   {
    "_defaultOrder": 45,
    "_isFastLaunch": false,
    "category": "Memory Optimized",
    "gpuNum": 0,
    "hideHardwareSpecs": false,
    "memoryGiB": 512,
    "name": "ml.r5.16xlarge",
    "vcpuNum": 64
   },
   {
    "_defaultOrder": 46,
    "_isFastLaunch": false,
    "category": "Memory Optimized",
    "gpuNum": 0,
    "hideHardwareSpecs": false,
    "memoryGiB": 768,
    "name": "ml.r5.24xlarge",
    "vcpuNum": 96
   },
   {
    "_defaultOrder": 47,
    "_isFastLaunch": false,
    "category": "Accelerated computing",
    "gpuNum": 1,
    "hideHardwareSpecs": false,
    "memoryGiB": 16,
    "name": "ml.g5.xlarge",
    "vcpuNum": 4
   },
   {
    "_defaultOrder": 48,
    "_isFastLaunch": false,
    "category": "Accelerated computing",
    "gpuNum": 1,
    "hideHardwareSpecs": false,
    "memoryGiB": 32,
    "name": "ml.g5.2xlarge",
    "vcpuNum": 8
   },
   {
    "_defaultOrder": 49,
    "_isFastLaunch": false,
    "category": "Accelerated computing",
    "gpuNum": 1,
    "hideHardwareSpecs": false,
    "memoryGiB": 64,
    "name": "ml.g5.4xlarge",
    "vcpuNum": 16
   },
   {
    "_defaultOrder": 50,
    "_isFastLaunch": false,
    "category": "Accelerated computing",
    "gpuNum": 1,
    "hideHardwareSpecs": false,
    "memoryGiB": 128,
    "name": "ml.g5.8xlarge",
    "vcpuNum": 32
   },
   {
    "_defaultOrder": 51,
    "_isFastLaunch": false,
    "category": "Accelerated computing",
    "gpuNum": 1,
    "hideHardwareSpecs": false,
    "memoryGiB": 256,
    "name": "ml.g5.16xlarge",
    "vcpuNum": 64
   },
   {
    "_defaultOrder": 52,
    "_isFastLaunch": false,
    "category": "Accelerated computing",
    "gpuNum": 4,
    "hideHardwareSpecs": false,
    "memoryGiB": 192,
    "name": "ml.g5.12xlarge",
    "vcpuNum": 48
   },
   {
    "_defaultOrder": 53,
    "_isFastLaunch": false,
    "category": "Accelerated computing",
    "gpuNum": 4,
    "hideHardwareSpecs": false,
    "memoryGiB": 384,
    "name": "ml.g5.24xlarge",
    "vcpuNum": 96
   },
   {
    "_defaultOrder": 54,
    "_isFastLaunch": false,
    "category": "Accelerated computing",
    "gpuNum": 8,
    "hideHardwareSpecs": false,
    "memoryGiB": 768,
    "name": "ml.g5.48xlarge",
    "vcpuNum": 192
   },
   {
    "_defaultOrder": 55,
    "_isFastLaunch": false,
    "category": "Accelerated computing",
    "gpuNum": 8,
    "hideHardwareSpecs": false,
    "memoryGiB": 1152,
    "name": "ml.p4d.24xlarge",
    "vcpuNum": 96
   },
   {
    "_defaultOrder": 56,
    "_isFastLaunch": false,
    "category": "Accelerated computing",
    "gpuNum": 8,
    "hideHardwareSpecs": false,
    "memoryGiB": 1152,
    "name": "ml.p4de.24xlarge",
    "vcpuNum": 96
   }
  ],
  "instance_type": "ml.m5.large",
  "kernelspec": {
   "display_name": "venv",
   "language": "python",
   "name": "python3"
  },
  "language_info": {
   "codemirror_mode": {
    "name": "ipython",
    "version": 3
   },
   "file_extension": ".py",
   "mimetype": "text/x-python",
   "name": "python",
   "nbconvert_exporter": "python",
   "pygments_lexer": "ipython3",
   "version": "3.10.12"
  }
 },
 "nbformat": 4,
 "nbformat_minor": 4
}
